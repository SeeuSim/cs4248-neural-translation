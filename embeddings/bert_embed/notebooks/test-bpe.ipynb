{
 "cells": [
  {
   "cell_type": "code",
   "execution_count": 42,
   "metadata": {},
   "outputs": [],
   "source": [
    "import torch"
   ]
  },
  {
   "cell_type": "code",
   "execution_count": 47,
   "metadata": {},
   "outputs": [
    {
     "name": "stdout",
     "output_type": "stream",
     "text": [
      "tensor([0, 0, 0, 0, 0, 0, 0, 0, 0, 0, 0, 0, 0, 0, 0, 0, 0, 0, 0, 0, 0, 0, 0, 0,\n",
      "        0, 0, 0, 0, 0, 0, 0, 0, 0, 0, 0, 0, 0, 0, 0, 0, 0, 0, 0, 0, 0, 0, 0, 0,\n",
      "        0, 0, 0, 0, 0, 0, 0, 0, 0, 0, 0, 0, 0, 0, 0, 0, 0, 0, 0, 0, 0, 0, 0, 0,\n",
      "        0, 0, 0, 0, 0, 0, 0, 0, 0, 0, 0, 0, 0, 0, 0, 0, 0, 0, 0, 0, 0, 0, 0, 0,\n",
      "        0, 0, 0, 0, 0, 0, 0, 0, 0, 0, 0, 0, 0, 0, 0, 0, 0, 0, 0, 0, 0, 0, 0, 0,\n",
      "        0, 0, 0, 0, 0, 0, 0, 0, 0, 0, 0, 0, 0, 0, 0, 0, 0, 0, 0, 0, 0, 0, 0, 0,\n",
      "        0, 0, 0, 0, 0, 0, 0, 0, 0, 0, 0, 0, 0, 0, 0, 0, 0, 0, 0, 0, 0, 0, 0, 0,\n",
      "        0, 0, 0, 0, 0, 0, 0, 0, 0, 0, 0, 0, 0, 0, 0, 0, 0, 0, 0, 0, 0, 0, 0, 0,\n",
      "        0, 0, 0, 0, 0, 0, 0, 0, 0, 0, 0, 0, 0, 0, 0, 0, 0, 0, 0, 0, 0, 0, 0, 0,\n",
      "        0, 0, 0, 0, 0, 0, 0, 0, 0, 0, 0, 0, 0, 0, 0, 0, 0, 0, 0, 0, 0, 0, 0, 0,\n",
      "        0, 0, 0, 0, 0, 0, 0, 0, 0, 0, 0, 0, 0, 0, 0, 0, 0, 0, 0, 0, 0, 0, 0, 0,\n",
      "        0, 0, 0, 0, 0, 0, 0, 0, 0, 0, 0, 0, 0, 0, 0, 0, 0, 0, 0, 0, 0, 0, 0, 0])\n",
      "tensor([0, 0, 0, 0, 0, 0, 0, 0, 0, 0, 0, 0, 0, 0, 0, 0, 0, 0, 0, 0, 0, 0, 0, 0,\n",
      "        0, 0, 0, 0, 0, 0, 0, 0, 0, 0, 0, 0, 0, 0, 0, 0, 0, 0, 0, 0, 0, 0, 0, 0,\n",
      "        0, 0, 0, 0, 0, 0, 0, 0, 0, 0, 0, 0, 0, 0, 0, 0, 0, 0, 0, 0, 0, 0, 0, 0,\n",
      "        0, 0, 0, 0, 0, 0, 0, 0, 0, 0, 0, 0, 0, 0, 0, 0, 0, 0, 0, 0, 0, 0, 0, 0,\n",
      "        0, 0, 0, 0, 0, 0, 0, 0, 0, 0, 0, 0, 0, 0, 0, 0, 0, 0, 0, 0, 0, 0, 0, 0,\n",
      "        0, 0, 0, 0, 0, 0, 0, 0, 0, 0, 0, 0, 0, 0, 0, 0, 0, 0, 0, 0, 0, 0, 0, 0,\n",
      "        0, 0, 0, 0, 0, 0, 0, 0, 0, 0, 0, 0, 0, 0, 0, 0, 0, 0, 0, 0, 0, 0, 0, 0,\n",
      "        0, 0, 0, 0, 0, 0, 0, 0, 0, 0, 0, 0, 0, 0, 0, 0, 0, 0, 0, 0, 0, 0, 0, 0,\n",
      "        0, 0, 0, 0, 0, 0, 0, 0, 0, 0, 0, 0, 0, 0, 0, 0, 0, 0, 0, 0, 0, 0, 0, 0,\n",
      "        0, 0, 0, 0, 0, 0, 0, 0, 0, 0, 0, 0, 0, 0, 0, 0, 0, 0, 0, 0, 0, 0, 0, 0,\n",
      "        0, 0, 0, 0, 0, 0, 0, 0, 0, 0, 0, 0, 0, 0, 0, 0, 0, 0, 0, 0, 0, 0, 0, 0,\n",
      "        0, 0, 0, 0, 0, 0, 0, 0, 0, 0, 0, 0, 0, 0, 0, 0, 0, 0, 0, 0, 0, 0, 0, 0])\n"
     ]
    }
   ],
   "source": [
    "a = torch.zeros((2, 288)).type(torch.int64)\n",
    "\n",
    "for row in a:\n",
    "    print(row)"
   ]
  },
  {
   "cell_type": "code",
   "execution_count": 68,
   "metadata": {},
   "outputs": [
    {
     "data": {
      "text/plain": [
       "torch.Size([1, 2, 288])"
      ]
     },
     "execution_count": 68,
     "metadata": {},
     "output_type": "execute_result"
    }
   ],
   "source": [
    "a.unsqueeze(0).shape"
   ]
  },
  {
   "cell_type": "code",
   "execution_count": 62,
   "metadata": {},
   "outputs": [],
   "source": [
    "import datetime\n",
    "import math\n",
    "import sys, os\n",
    "\n",
    "import numpy as np\n",
    "import sentencepiece as spm\n",
    "import torch\n",
    "from torch import nn\n",
    "from torch.utils.data import Dataset, DataLoader\n",
    "from tqdm import tqdm\n",
    "from transformers import BatchEncoding, BertForMaskedLM\n",
    "\n",
    "\n",
    "SEQUENCE_LENGTH = 288\n",
    "\n",
    "\n",
    "class BPEBertTokeniser:\n",
    "    out_keys = [\n",
    "        \"input_ids\",\n",
    "        \"token_type_ids\",\n",
    "        \"attention_mask\",\n",
    "        \"special_tokens_mask\",\n",
    "    ]\n",
    "\n",
    "    def __init__(self, lang):\n",
    "        self.lang = lang\n",
    "        self.pad_token_id = 3\n",
    "\n",
    "    def _process_id(self, input_ids):\n",
    "        \"\"\"\n",
    "        Called inside the model.\n",
    "        \"\"\"\n",
    "\n",
    "        # src_i: EOS, # trg_i: BOS, #trg_o: EOS\n",
    "        # input_ids = torch.tensor(input_ids) # 288, padded\n",
    "\n",
    "        token_type_ids = torch.zeros(input_ids.shape)\n",
    "\n",
    "        attention_mask = torch.where(input_ids == self.pad_token_id, 0, 1)\n",
    "\n",
    "        special_tokens_mask = torch.where(input_ids < 4, 1, 0)\n",
    "\n",
    "        return {\n",
    "            \"input_ids\": input_ids,\n",
    "            \"token_type_ids\": token_type_ids,\n",
    "            \"attention_mask\": attention_mask,\n",
    "            \"special_tokens_mask\": special_tokens_mask,\n",
    "        }\n",
    "\n",
    "    def encode(self, row):\n",
    "        if len(row.shape) > 1:\n",
    "            return self.encode_batch(row)\n",
    "        return self._process_id(row)\n",
    "\n",
    "    def encode_batch(self, rows):\n",
    "        ids = list(map(lambda row: self._process_id(row), rows))\n",
    "        return {key: torch.vstack([example[key] for example in ids]) for key in BPEBertTokeniser.out_keys}\n",
    "    \n",
    "\n",
    "    def __call__(self, inputs, **_kwargs):\n",
    "        return self.encode(inputs)\n",
    "\n",
    "    def __len__(self):\n",
    "        return len(self.model)\n",
    "\n",
    "\n",
    "\n",
    "DEVICE = torch.device(\"cuda\") if torch.cuda.is_available() else torch.device(\"cpu\")\n",
    "\n",
    "\n",
    "class BPEBertEmbedder:\n",
    "    def __init__(self, lang: str, model_file: str):\n",
    "        # Init the model from the pretrained weights\n",
    "        self.model = BertForMaskedLM.from_pretrained(\n",
    "            model_file, output_hidden_states=True\n",
    "        ).to(DEVICE)\n",
    "        self.model.eval()\n",
    "\n",
    "        # Init the BPE tokeniser (padded to length 288, vocab 16384)\n",
    "        self.tokeniser = BPEBertTokeniser(lang)\n",
    "        pass\n",
    "\n",
    "    def embed(self, sent: list[int]):\n",
    "        tokens = self.tokeniser(\n",
    "            sent\n",
    "        )  # input_ids, token_type_mask, attention_mask, special_tokens_mask\n",
    "        with torch.no_grad():\n",
    "            input_ids = tokens[\"input_ids\"].to(DEVICE)\n",
    "            token_type_ids = tokens[\"token_type_ids\"].to(DEVICE)\n",
    "            attention_mask = tokens[\"attention_mask\"].to(DEVICE)\n",
    "            # Perform inference\n",
    "            output = self.model(input_ids, token_type_ids, attention_mask)\n",
    "            hidden_states = output.hidden_states\n",
    "\n",
    "            # Permutate and obtain hidden states\n",
    "            token_embeddings = torch.stack(hidden_states, dim=0)  # 13, batch, 288, 256\n",
    "\n",
    "            print(token_embeddings.shape)\n",
    "            token_embeddings = token_embeddings.permute(1, 2, 0, 3)  # (batch, 288, n_layers, 256)\n",
    "\n",
    "            # Take last 4 layers\n",
    "            token_embeddings = token_embeddings[:, :, -4:, :]\n",
    "\n",
    "            # Take sum of last 4 layers\n",
    "            token_embeddings = token_embeddings.sum(axis=2)  # (288, 256)\n",
    "\n",
    "            # Matrix of embeddings of dim 256, one per word\n",
    "            return token_embeddings\n",
    "\n",
    "en_embedder = BPEBertEmbedder(\n",
    "    lang=\"en\",\n",
    "    model_file='../../models/bert-embed/BPE-bert-en',\n",
    "    # spm_file='../../tokenisation/sentencepiece_custom/en.model',\n",
    ")\n",
    "\n",
    "zh_embedder = BPEBertEmbedder(\n",
    "    lang=\"zh\",\n",
    "    model_file='../../models/bert-embed/BPE-bert-zh',\n",
    "    # spm_file='../../tokenisation/sentencepiece_custom/zh.model',\n",
    ")\n"
   ]
  },
  {
   "cell_type": "code",
   "execution_count": 64,
   "metadata": {},
   "outputs": [
    {
     "name": "stdout",
     "output_type": "stream",
     "text": [
      "torch.Size([13, 2, 288, 256])\n"
     ]
    },
    {
     "data": {
      "text/plain": [
       "torch.Size([2, 288, 256])"
      ]
     },
     "execution_count": 64,
     "metadata": {},
     "output_type": "execute_result"
    }
   ],
   "source": [
    "en_embedder.embed(a).shape"
   ]
  },
  {
   "cell_type": "code",
   "execution_count": 10,
   "metadata": {},
   "outputs": [],
   "source": [
    "with open('../../tokenisation/data/iwslt2017-en-zh-test.en', 'r') as f:\n",
    "    sent = f.readline()\n",
    "\n",
    "e = en_embedder.embed(sent)"
   ]
  },
  {
   "cell_type": "code",
   "execution_count": 11,
   "metadata": {},
   "outputs": [],
   "source": [
    "em, p = e"
   ]
  },
  {
   "cell_type": "code",
   "execution_count": 12,
   "metadata": {},
   "outputs": [
    {
     "data": {
      "text/plain": [
       "torch.Size([288, 256])"
      ]
     },
     "execution_count": 12,
     "metadata": {},
     "output_type": "execute_result"
    }
   ],
   "source": [
    "em.shape"
   ]
  },
  {
   "cell_type": "code",
   "execution_count": 53,
   "metadata": {},
   "outputs": [],
   "source": [
    "from e2e import init_model"
   ]
  },
  {
   "cell_type": "code",
   "execution_count": 54,
   "metadata": {},
   "outputs": [],
   "source": [
    "model = init_model(16384, 16384, '../../models/transformer-scratch/230k-rows_15epoch-btch-90-embed-288.tar')"
   ]
  },
  {
   "cell_type": "code",
   "execution_count": 55,
   "metadata": {},
   "outputs": [
    {
     "data": {
      "text/plain": [
       "Embedding(16384, 256)"
      ]
     },
     "execution_count": 55,
     "metadata": {},
     "output_type": "execute_result"
    }
   ],
   "source": [
    "model.src_embedding"
   ]
  },
  {
   "cell_type": "code",
   "execution_count": 56,
   "metadata": {},
   "outputs": [
    {
     "data": {
      "text/plain": [
       "PositionalEncoder()"
      ]
     },
     "execution_count": 56,
     "metadata": {},
     "output_type": "execute_result"
    }
   ],
   "source": [
    "model.positional_encoder"
   ]
  },
  {
   "cell_type": "code",
   "execution_count": 66,
   "metadata": {},
   "outputs": [
    {
     "data": {
      "text/plain": [
       "torch.Size([90, 288, 256])"
      ]
     },
     "execution_count": 66,
     "metadata": {},
     "output_type": "execute_result"
    }
   ],
   "source": [
    "model.positional_encoder(model.src_embedding(torch.zeros((90,288)).type(torch.int32))).shape"
   ]
  },
  {
   "cell_type": "code",
   "execution_count": 16,
   "metadata": {},
   "outputs": [],
   "source": [
    "import sentencepiece as spm"
   ]
  },
  {
   "cell_type": "code",
   "execution_count": 17,
   "metadata": {},
   "outputs": [],
   "source": [
    "tokeniser = spm.SentencePieceProcessor('../../tokenisation/sentencepiece_custom/en.model')"
   ]
  },
  {
   "cell_type": "code",
   "execution_count": 19,
   "metadata": {},
   "outputs": [],
   "source": [
    "def get_ids():\n",
    "    ids = tokeniser.encode('I want to go to school.')\n",
    "    ids += [3] * (288 - len(ids))\n",
    "    return ids"
   ]
  },
  {
   "cell_type": "code",
   "execution_count": 32,
   "metadata": {},
   "outputs": [],
   "source": [
    "i = [[get_ids()] * 256] * 10"
   ]
  },
  {
   "cell_type": "code",
   "execution_count": 37,
   "metadata": {},
   "outputs": [
    {
     "data": {
      "text/plain": [
       "torch.Size([10, 288, 256])"
      ]
     },
     "execution_count": 37,
     "metadata": {},
     "output_type": "execute_result"
    }
   ],
   "source": [
    "torch.tensor(i).permute((0, 2, 1)).shape"
   ]
  },
  {
   "cell_type": "code",
   "execution_count": 41,
   "metadata": {},
   "outputs": [
    {
     "data": {
      "text/plain": [
       "torch.Size([10, 1, 288])"
      ]
     },
     "execution_count": 41,
     "metadata": {},
     "output_type": "execute_result"
    }
   ],
   "source": [
    "(torch.tensor(i).permute((0, 2, 1)) == 3).unsqueeze(1)[:, :, :, 0].shape"
   ]
  },
  {
   "cell_type": "code",
   "execution_count": null,
   "metadata": {},
   "outputs": [],
   "source": []
  }
 ],
 "metadata": {
  "kernelspec": {
   "display_name": ".venv",
   "language": "python",
   "name": "python3"
  },
  "language_info": {
   "codemirror_mode": {
    "name": "ipython",
    "version": 3
   },
   "file_extension": ".py",
   "mimetype": "text/x-python",
   "name": "python",
   "nbconvert_exporter": "python",
   "pygments_lexer": "ipython3",
   "version": "3.11.7"
  }
 },
 "nbformat": 4,
 "nbformat_minor": 2
}
