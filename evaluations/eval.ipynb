{
 "cells": [
  {
   "cell_type": "markdown",
   "metadata": {},
   "source": [
    "Run this notebook with your predictions to generate your BLEU, CHRF, SacreBLEU, BERTScore scores."
   ]
  },
  {
   "cell_type": "code",
   "execution_count": 1,
   "metadata": {},
   "outputs": [
    {
     "name": "stderr",
     "output_type": "stream",
     "text": [
      "/Users/seeusim/University/Y3/Y3S2/CS4248/Project/neural-translation/.venv/lib/python3.11/site-packages/tqdm/auto.py:21: TqdmWarning: IProgress not found. Please update jupyter and ipywidgets. See https://ipywidgets.readthedocs.io/en/stable/user_install.html\n",
      "  from .autonotebook import tqdm as notebook_tqdm\n"
     ]
    }
   ],
   "source": [
    "import jieba\n",
    "import json\n",
    "import torch\n",
    "from bert_score import score\n",
    "from rouge_chinese import Rouge\n",
    "from sacrebleu.metrics import BLEU, CHRF, TER"
   ]
  },
  {
   "cell_type": "code",
   "execution_count": 2,
   "metadata": {},
   "outputs": [],
   "source": [
    "# PREDICTION_FILE = '10k-transformer-scratch.json'\n",
    "PREDICTION_FILE = '230k-transformer-scratch.json'\n",
    "REFERENCE_FILE = 'iwslt2017-en-zh-test.zh'"
   ]
  },
  {
   "cell_type": "code",
   "execution_count": 3,
   "metadata": {},
   "outputs": [],
   "source": [
    "def get_report():\n",
    "    predictions = []\n",
    "    reference = []\n",
    "\n",
    "    with open(f'./predictions/{PREDICTION_FILE}', 'r') as f:\n",
    "        raw = f.read()\n",
    "        pdict = json.loads(raw)\n",
    "        if \"predicted\" in pdict:\n",
    "            predictions = [*predictions, *pdict['predicted']]\n",
    "\n",
    "    with open(f'../tokenisation/sentencepiece_custom/{REFERENCE_FILE}', 'r') as f:\n",
    "        reference = [*reference, *(f.readlines())]\n",
    "\n",
    "    assert len(predictions) == len(reference), \\\n",
    "        'Received a wrong number of predictions. ' + \\\n",
    "        'Ensure that you have generated predictions for the whole test set. \\n\\n' + \\\n",
    "        f'Predictions Length: {len(predictions)}, Expected: {len(reference)}' \n",
    "\n",
    "    refs = [\n",
    "        predictions\n",
    "    ]\n",
    "\n",
    "    sys = reference\n",
    "\n",
    "    # BLEU-4 (1/2/3/4)\n",
    "    bleu = BLEU(smooth_method='exp', tokenize='zh', max_ngram_order=4)\n",
    "    bleu = bleu.corpus_score(sys, refs)\n",
    "    print('BLEU-4:')\n",
    "    print(bleu)\n",
    "    print('-' * 50)\n",
    "\n",
    "    # CHRF\n",
    "    print(\"CHRF\")\n",
    "    chrf = CHRF(word_order=0, beta=0, eps_smoothing=False)\n",
    "    print(chrf.corpus_score(sys, refs))\n",
    "    print(50*'-')\n",
    "\n",
    "    # CHRF++\n",
    "    print(\"CHRF++\")\n",
    "    chrf = CHRF(word_order=2, beta=0, eps_smoothing=False)\n",
    "    print(chrf.corpus_score(sys, refs))\n",
    "    print(50*'-')\n",
    "\n",
    "    # TER\n",
    "    print(\"TER\")\n",
    "    ter = TER(asian_support=True, normalized=True)\n",
    "    print(ter.corpus_score(sys, refs))\n",
    "    print(50*'-')\n",
    "\n",
    "    # Rouge\n",
    "    print(\"Rouge\")\n",
    "\n",
    "    def get_tok(sent):\n",
    "        return ' '.join(jieba.lcut(sent))\n",
    "\n",
    "    rouge = Rouge()\n",
    "    scores = rouge.get_scores(list(map(get_tok, predictions)), list(map(get_tok, reference)), avg=True)\n",
    "    print(json.dumps(scores, indent=2))\n",
    "    print(50*'-')\n",
    "\n",
    "\n",
    "    # BERTScore\n",
    "    print(\"BERT\")\n",
    "\n",
    "    P, R, F1 = score(predictions, reference, lang='zh') # default model for zh is bert-base-chinese\n",
    "    print(f'Precision: {P.mean().item()} | Recall: {R.mean().item()} | F1: {F1.mean().item()}') # Precision, Recall and F1"
   ]
  },
  {
   "cell_type": "code",
   "execution_count": 4,
   "metadata": {},
   "outputs": [
    {
     "name": "stdout",
     "output_type": "stream",
     "text": [
      "BLEU-4:\n",
      "BLEU = 12.89 39.5/18.8/8.6/4.3 (BP = 1.000 ratio = 1.227 hyp_len = 245077 ref_len = 199738)\n",
      "--------------------------------------------------\n",
      "CHRF\n",
      "chrF0 = 12.59\n",
      "--------------------------------------------------\n",
      "CHRF++\n",
      "chrF0++ = 9.57\n",
      "--------------------------------------------------\n",
      "TER\n"
     ]
    },
    {
     "name": "stderr",
     "output_type": "stream",
     "text": [
      "Building prefix dict from the default dictionary ...\n",
      "Loading model from cache /var/folders/pc/n3qxl__51zq83lxk2mhxs1x00000gn/T/jieba.cache\n"
     ]
    },
    {
     "name": "stdout",
     "output_type": "stream",
     "text": [
      "TER = 89.74\n",
      "--------------------------------------------------\n",
      "Rouge\n"
     ]
    },
    {
     "name": "stderr",
     "output_type": "stream",
     "text": [
      "Loading model cost 0.310 seconds.\n",
      "Prefix dict has been built successfully.\n"
     ]
    },
    {
     "name": "stdout",
     "output_type": "stream",
     "text": [
      "{\n",
      "  \"rouge-1\": {\n",
      "    \"r\": 0.31928522104761126,\n",
      "    \"p\": 0.4030361162215033,\n",
      "    \"f\": 0.34884086250448565\n",
      "  },\n",
      "  \"rouge-2\": {\n",
      "    \"r\": 0.0946124355671617,\n",
      "    \"p\": 0.11718380109144616,\n",
      "    \"f\": 0.10186365049152646\n",
      "  },\n",
      "  \"rouge-l\": {\n",
      "    \"r\": 0.28955896126228486,\n",
      "    \"p\": 0.35421947634495726,\n",
      "    \"f\": 0.3101049318388194\n",
      "  }\n",
      "}\n",
      "--------------------------------------------------\n",
      "BERT\n",
      "Precision: 0.7506004571914673 | Recall: 0.710690975189209 | F1: 0.729341983795166\n"
     ]
    }
   ],
   "source": [
    "get_report()"
   ]
  }
 ],
 "metadata": {
  "kernelspec": {
   "display_name": ".venv",
   "language": "python",
   "name": "python3"
  },
  "language_info": {
   "codemirror_mode": {
    "name": "ipython",
    "version": 3
   },
   "file_extension": ".py",
   "mimetype": "text/x-python",
   "name": "python",
   "nbconvert_exporter": "python",
   "pygments_lexer": "ipython3",
   "version": "3.11.7"
  }
 },
 "nbformat": 4,
 "nbformat_minor": 2
}
