{
 "cells": [
  {
   "cell_type": "markdown",
   "metadata": {},
   "source": [
    "Run this notebook with your predictions to generate your BLEU, CHRF, SacreBLEU, BERTScore scores."
   ]
  },
  {
   "cell_type": "code",
   "execution_count": 1,
   "metadata": {},
   "outputs": [
    {
     "name": "stderr",
     "output_type": "stream",
     "text": [
      "c:\\Users\\user\\OneDrive\\Documents\\GitHub\\cs4248-neural-translation\\venvE3C\\lib\\site-packages\\tqdm\\auto.py:21: TqdmWarning: IProgress not found. Please update jupyter and ipywidgets. See https://ipywidgets.readthedocs.io/en/stable/user_install.html\n",
      "  from .autonotebook import tqdm as notebook_tqdm\n"
     ]
    }
   ],
   "source": [
    "import jieba\n",
    "import json\n",
    "import torch\n",
    "from bert_score import score\n",
    "from rouge_chinese import Rouge\n",
    "from sacrebleu.metrics import BLEU, CHRF, TER"
   ]
  },
  {
   "cell_type": "code",
   "execution_count": 2,
   "metadata": {},
   "outputs": [],
   "source": [
    "# PREDICTION_FILE = '10k-transformer-scratch.json'\n",
    "PREDICTION_FILE = '10k-rnn-baseline-spm-bi.json'\n",
    "REFERENCE_FILE = 'iwslt2017-en-zh-test.zh'"
   ]
  },
  {
   "cell_type": "code",
   "execution_count": 3,
   "metadata": {},
   "outputs": [],
   "source": [
    "def get_report():\n",
    "    predictions = []\n",
    "    reference = []\n",
    "\n",
    "    with open(f'./predictions/{PREDICTION_FILE}', 'r') as f:\n",
    "        raw = f.read()\n",
    "        pdict = json.loads(raw)\n",
    "        if \"predicted\" in pdict:\n",
    "            predictions = [*predictions, *pdict['predicted']]\n",
    "\n",
    "    with open(f'../tokenisation/data/{REFERENCE_FILE}', 'r') as f:\n",
    "        reference = [*reference, *(f.readlines())]\n",
    "\n",
    "    assert len(predictions) == len(reference), \\\n",
    "        'Received a wrong number of predictions. ' + \\\n",
    "        'Ensure that you have generated predictions for the whole test set. \\n\\n' + \\\n",
    "        f'Predictions Length: {len(predictions)}, Expected: {len(reference)}' \n",
    "\n",
    "    refs = [[r] for r in reference]\n",
    "    sys = predictions\n",
    "\n",
    "    # BLEU-4 (1/2/3/4)\n",
    "    bleu = BLEU(smooth_method='exp', tokenize='zh', max_ngram_order=4)\n",
    "    bleu = bleu.corpus_score(sys, refs)\n",
    "    print('BLEU-4:')\n",
    "    print(bleu)\n",
    "    print('-' * 50)\n",
    "\n",
    "    # CHRF\n",
    "    print(\"CHRF\")\n",
    "    chrf = CHRF(word_order=0, beta=0, eps_smoothing=False)\n",
    "    print(chrf.corpus_score(sys, refs))\n",
    "    print(50*'-')\n",
    "\n",
    "    # CHRF++\n",
    "    print(\"CHRF++\")\n",
    "    chrf = CHRF(word_order=2, beta=0, eps_smoothing=False)\n",
    "    print(chrf.corpus_score(sys, refs))\n",
    "    print(50*'-')\n",
    "\n",
    "    # TER\n",
    "    print(\"TER\")\n",
    "    ter = TER(asian_support=True, normalized=True)\n",
    "    print(ter.corpus_score(sys, refs))\n",
    "    print(50*'-')\n",
    "\n",
    "    # Rouge\n",
    "    print(\"Rouge\")\n",
    "\n",
    "    def get_tok(sent):\n",
    "        return ' '.join(jieba.lcut(sent))\n",
    "\n",
    "    rouge = Rouge()\n",
    "    scores = rouge.get_scores(list(map(get_tok, predictions)), list(map(get_tok, reference)), avg=True)\n",
    "    print(json.dumps(scores, indent=2))\n",
    "    print(50*'-')\n",
    "\n",
    "\n",
    "    # BERTScore\n",
    "    print(\"BERT\")\n",
    "\n",
    "    P, R, F1 = score(predictions, reference, lang='zh') # default model for zh is bert-base-chinese\n",
    "    print(f'Precision: {P.mean().item()} | Recall: {R.mean().item()} | F1: {F1.mean().item()}') # Precision, Recall and F1"
   ]
  },
  {
   "cell_type": "code",
   "execution_count": 4,
   "metadata": {},
   "outputs": [
    {
     "ename": "UnicodeDecodeError",
     "evalue": "'charmap' codec can't decode byte 0x8d in position 48: character maps to <undefined>",
     "output_type": "error",
     "traceback": [
      "\u001b[1;31m---------------------------------------------------------------------------\u001b[0m",
      "\u001b[1;31mUnicodeDecodeError\u001b[0m                        Traceback (most recent call last)",
      "Cell \u001b[1;32mIn[4], line 1\u001b[0m\n\u001b[1;32m----> 1\u001b[0m \u001b[43mget_report\u001b[49m\u001b[43m(\u001b[49m\u001b[43m)\u001b[49m\n",
      "Cell \u001b[1;32mIn[3], line 6\u001b[0m, in \u001b[0;36mget_report\u001b[1;34m()\u001b[0m\n\u001b[0;32m      3\u001b[0m reference \u001b[38;5;241m=\u001b[39m []\n\u001b[0;32m      5\u001b[0m \u001b[38;5;28;01mwith\u001b[39;00m \u001b[38;5;28mopen\u001b[39m(\u001b[38;5;124mf\u001b[39m\u001b[38;5;124m'\u001b[39m\u001b[38;5;124m./predictions/\u001b[39m\u001b[38;5;132;01m{\u001b[39;00mPREDICTION_FILE\u001b[38;5;132;01m}\u001b[39;00m\u001b[38;5;124m'\u001b[39m, \u001b[38;5;124m'\u001b[39m\u001b[38;5;124mr\u001b[39m\u001b[38;5;124m'\u001b[39m) \u001b[38;5;28;01mas\u001b[39;00m f:\n\u001b[1;32m----> 6\u001b[0m     raw \u001b[38;5;241m=\u001b[39m \u001b[43mf\u001b[49m\u001b[38;5;241;43m.\u001b[39;49m\u001b[43mread\u001b[49m\u001b[43m(\u001b[49m\u001b[43m)\u001b[49m\n\u001b[0;32m      7\u001b[0m     pdict \u001b[38;5;241m=\u001b[39m json\u001b[38;5;241m.\u001b[39mloads(raw)\n\u001b[0;32m      8\u001b[0m     \u001b[38;5;28;01mif\u001b[39;00m \u001b[38;5;124m\"\u001b[39m\u001b[38;5;124mpredicted\u001b[39m\u001b[38;5;124m\"\u001b[39m \u001b[38;5;129;01min\u001b[39;00m pdict:\n",
      "File \u001b[1;32m~\\AppData\\Local\\Programs\\Python\\Python39\\lib\\encodings\\cp1252.py:23\u001b[0m, in \u001b[0;36mIncrementalDecoder.decode\u001b[1;34m(self, input, final)\u001b[0m\n\u001b[0;32m     22\u001b[0m \u001b[38;5;28;01mdef\u001b[39;00m \u001b[38;5;21mdecode\u001b[39m(\u001b[38;5;28mself\u001b[39m, \u001b[38;5;28minput\u001b[39m, final\u001b[38;5;241m=\u001b[39m\u001b[38;5;28;01mFalse\u001b[39;00m):\n\u001b[1;32m---> 23\u001b[0m     \u001b[38;5;28;01mreturn\u001b[39;00m \u001b[43mcodecs\u001b[49m\u001b[38;5;241;43m.\u001b[39;49m\u001b[43mcharmap_decode\u001b[49m\u001b[43m(\u001b[49m\u001b[38;5;28;43minput\u001b[39;49m\u001b[43m,\u001b[49m\u001b[38;5;28;43mself\u001b[39;49m\u001b[38;5;241;43m.\u001b[39;49m\u001b[43merrors\u001b[49m\u001b[43m,\u001b[49m\u001b[43mdecoding_table\u001b[49m\u001b[43m)\u001b[49m[\u001b[38;5;241m0\u001b[39m]\n",
      "\u001b[1;31mUnicodeDecodeError\u001b[0m: 'charmap' codec can't decode byte 0x8d in position 48: character maps to <undefined>"
     ]
    }
   ],
   "source": [
    "get_report()"
   ]
  }
 ],
 "metadata": {
  "kernelspec": {
   "display_name": ".venv",
   "language": "python",
   "name": "python3"
  },
  "language_info": {
   "codemirror_mode": {
    "name": "ipython",
    "version": 3
   },
   "file_extension": ".py",
   "mimetype": "text/x-python",
   "name": "python",
   "nbconvert_exporter": "python",
   "pygments_lexer": "ipython3",
   "version": "3.9.0"
  }
 },
 "nbformat": 4,
 "nbformat_minor": 2
}
