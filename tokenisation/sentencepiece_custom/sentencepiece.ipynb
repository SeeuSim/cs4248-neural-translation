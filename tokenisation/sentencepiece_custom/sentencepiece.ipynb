{
 "cells": [
  {
   "cell_type": "code",
   "execution_count": 1,
   "metadata": {},
   "outputs": [],
   "source": [
    "import sentencepiece as spm"
   ]
  },
  {
   "cell_type": "code",
   "execution_count": 21,
   "metadata": {},
   "outputs": [],
   "source": [
    "en_model = spm.SentencePieceProcessor(model_file=\"./en.model\")"
   ]
  },
  {
   "cell_type": "code",
   "execution_count": 22,
   "metadata": {},
   "outputs": [
    {
     "data": {
      "text/plain": [
       "16384"
      ]
     },
     "execution_count": 22,
     "metadata": {},
     "output_type": "execute_result"
    }
   ],
   "source": [
    "len(en_model)"
   ]
  },
  {
   "cell_type": "code",
   "execution_count": 15,
   "metadata": {},
   "outputs": [],
   "source": [
    "special_ids = [\n",
    "    en_model.unk_id(),\n",
    "    en_model.pad_id(),\n",
    "    en_model.bos_id(),\n",
    "    en_model.eos_id()\n",
    "]"
   ]
  },
  {
   "cell_type": "code",
   "execution_count": 16,
   "metadata": {},
   "outputs": [
    {
     "data": {
      "text/plain": [
       "[0, -1, 1, 2]"
      ]
     },
     "execution_count": 16,
     "metadata": {},
     "output_type": "execute_result"
    }
   ],
   "source": [
    "special_ids"
   ]
  },
  {
   "cell_type": "code",
   "execution_count": 17,
   "metadata": {},
   "outputs": [
    {
     "data": {
      "text/plain": [
       "'The quick brown fox jumped over the lazy dog.'"
      ]
     },
     "execution_count": 17,
     "metadata": {},
     "output_type": "execute_result"
    }
   ],
   "source": [
    "en_model.decode(en_model.encode(\"The quick brown fox jumped over the lazy dog.\"))"
   ]
  },
  {
   "cell_type": "code",
   "execution_count": 50,
   "metadata": {},
   "outputs": [],
   "source": [
    "class Tokeniser(object):\n",
    "    def __init__(self, lang: str):\n",
    "        self.model = spm.SentencePieceProcessor(model_file=f'./{lang}.model')\n",
    "        self.special_ids = [\n",
    "            self.model.unk_id(),\n",
    "            self.model.pad_id(),\n",
    "            self.model.bos_id(),\n",
    "            self.model.eos_id()\n",
    "        ]\n",
    "\n",
    "    def __len__(self):\n",
    "        return len(self.model)\n",
    "    \n",
    "    def encode_batch(self, sents: list[str], pad_len = None, truncate_len=None):\n",
    "        return [self.encode(sent, pad_len, truncate_len) for sent in sents]\n",
    "\n",
    "    def encode(self, sent: str | list[str], pad_len = None, truncate_len=None):\n",
    "        if type(sent) == list:\n",
    "            return self.encode_batch(sent, pad_len, truncate_len)\n",
    "        ids = self.model.encode(sent)\n",
    "        if pad_len is not None and len(ids) < int(pad_len):\n",
    "            ids = [*ids, *([self.model.pad_id()] * (int(pad_len) - len(ids)))]\n",
    "        elif truncate_len is not None and len(ids) > int(truncate_len):\n",
    "            ids = ids[:int(truncate_len)]\n",
    "        return ids\n",
    "\n",
    "    \n",
    "    def decode(self, ids: list[int]):\n",
    "        return self.model.decode(list(filter(lambda id: id >= 0 and id < len(self), ids)))\n",
    "    "
   ]
  },
  {
   "cell_type": "code",
   "execution_count": 51,
   "metadata": {},
   "outputs": [],
   "source": [
    "en_model = Tokeniser('en')\n",
    "\n",
    "zh_model = Tokeniser('zh')"
   ]
  },
  {
   "cell_type": "code",
   "execution_count": 52,
   "metadata": {},
   "outputs": [
    {
     "data": {
      "text/plain": [
       "16384"
      ]
     },
     "execution_count": 52,
     "metadata": {},
     "output_type": "execute_result"
    }
   ],
   "source": [
    "len(en_model)"
   ]
  },
  {
   "cell_type": "code",
   "execution_count": 53,
   "metadata": {},
   "outputs": [
    {
     "data": {
      "text/plain": [
       "16384"
      ]
     },
     "execution_count": 53,
     "metadata": {},
     "output_type": "execute_result"
    }
   ],
   "source": [
    "len(zh_model)"
   ]
  },
  {
   "cell_type": "code",
   "execution_count": 54,
   "metadata": {},
   "outputs": [],
   "source": [
    "ids = en_model.encode(\"I want to sleep.\", pad_len=128)"
   ]
  },
  {
   "cell_type": "code",
   "execution_count": 55,
   "metadata": {},
   "outputs": [
    {
     "data": {
      "text/plain": [
       "'I want to sleep.'"
      ]
     },
     "execution_count": 55,
     "metadata": {},
     "output_type": "execute_result"
    }
   ],
   "source": [
    "en_model.decode(ids)"
   ]
  },
  {
   "cell_type": "code",
   "execution_count": null,
   "metadata": {},
   "outputs": [],
   "source": []
  }
 ],
 "metadata": {
  "kernelspec": {
   "display_name": ".venv",
   "language": "python",
   "name": "python3"
  },
  "language_info": {
   "codemirror_mode": {
    "name": "ipython",
    "version": 3
   },
   "file_extension": ".py",
   "mimetype": "text/x-python",
   "name": "python",
   "nbconvert_exporter": "python",
   "pygments_lexer": "ipython3",
   "version": "3.11.7"
  }
 },
 "nbformat": 4,
 "nbformat_minor": 2
}
