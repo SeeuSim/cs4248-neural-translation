{
 "cells": [
  {
   "cell_type": "code",
   "execution_count": 6,
   "metadata": {},
   "outputs": [
    {
     "name": "stderr",
     "output_type": "stream",
     "text": [
      "Downloading https://raw.githubusercontent.com/stanfordnlp/stanza-resources/main/resources_1.8.0.json: 379kB [00:00, 50.1MB/s]                    \n",
      "2024-04-07 16:09:27 INFO: Downloaded file to /Users/seeusim/stanza_resources/resources.json\n",
      "2024-04-07 16:09:27 INFO: \"zh\" is an alias for \"zh-hans\"\n",
      "2024-04-07 16:09:27 INFO: Downloading these customized packages for language: zh-hans (Simplified_Chinese)...\n",
      "=======================\n",
      "| Processor | Package |\n",
      "-----------------------\n",
      "| tokenize  | gsdsimp |\n",
      "=======================\n",
      "\n",
      "2024-04-07 16:09:27 INFO: File exists: /Users/seeusim/stanza_resources/zh-hans/tokenize/gsdsimp.pt\n",
      "2024-04-07 16:09:27 INFO: Finished downloading models and saved to /Users/seeusim/stanza_resources\n",
      "2024-04-07 16:09:27 INFO: Checking for updates to resources.json in case models have been updated.  Note: this behavior can be turned off with download_method=None or download_method=DownloadMethod.REUSE_RESOURCES\n",
      "Downloading https://raw.githubusercontent.com/stanfordnlp/stanza-resources/main/resources_1.8.0.json: 379kB [00:00, 44.3MB/s]                    \n",
      "2024-04-07 16:09:27 INFO: Downloaded file to /Users/seeusim/stanza_resources/resources.json\n",
      "2024-04-07 16:09:27 INFO: \"zh\" is an alias for \"zh-hans\"\n",
      "2024-04-07 16:09:27 INFO: Loading these models for language: zh-hans (Simplified_Chinese):\n",
      "=======================\n",
      "| Processor | Package |\n",
      "-----------------------\n",
      "| tokenize  | gsdsimp |\n",
      "=======================\n",
      "\n",
      "2024-04-07 16:09:27 INFO: Using device: cpu\n",
      "2024-04-07 16:09:27 INFO: Loading: tokenize\n",
      "2024-04-07 16:09:27 INFO: Done loading processors!\n"
     ]
    }
   ],
   "source": [
    "import stanza\n",
    "from tqdm import tqdm\n",
    "\n",
    "stanza.download('zh', processors='tokenize')\n",
    "nlp = stanza.Pipeline('zh', processors='tokenize')"
   ]
  },
  {
   "cell_type": "code",
   "execution_count": 7,
   "metadata": {},
   "outputs": [],
   "source": [
    "from torchtext.data.utils import get_tokenizer\n",
    "from torchtext.vocab import build_vocab_from_iterator\n",
    "import stanza"
   ]
  },
  {
   "cell_type": "code",
   "execution_count": null,
   "metadata": {},
   "outputs": [],
   "source": [
    "SRC_LANGUAGE = 'en'\n",
    "TGT_LANGUAGE = 'zh'\n",
    "\n",
    "DATA_DIR = '../data'\n",
    "\n",
    "# Define special symbols and indices\n",
    "UNK_IDX, BOS_IDX, EOS_IDX, PAD_IDX = 0, 1, 2, 3\n",
    "# Make sure the tokens are in order of their indices to properly insert them in vocab\n",
    "special_symbols = ['<unk>', '<s>', '</s>', '<pad>']\n"
   ]
  },
  {
   "cell_type": "code",
   "execution_count": 8,
   "metadata": {},
   "outputs": [
    {
     "name": "stderr",
     "output_type": "stream",
     "text": [
      "2024-04-07 16:09:27 INFO: Checking for updates to resources.json in case models have been updated.  Note: this behavior can be turned off with download_method=None or download_method=DownloadMethod.REUSE_RESOURCES\n",
      "Downloading https://raw.githubusercontent.com/stanfordnlp/stanza-resources/main/resources_1.8.0.json: 379kB [00:00, 58.0MB/s]                    \n",
      "2024-04-07 16:09:27 INFO: Downloaded file to /Users/seeusim/stanza_resources/resources.json\n",
      "2024-04-07 16:09:27 INFO: \"zh\" is an alias for \"zh-hans\"\n",
      "2024-04-07 16:09:27 INFO: Loading these models for language: zh-hans (Simplified_Chinese):\n",
      "=======================\n",
      "| Processor | Package |\n",
      "-----------------------\n",
      "| tokenize  | gsdsimp |\n",
      "=======================\n",
      "\n",
      "2024-04-07 16:09:27 INFO: Using device: cpu\n",
      "2024-04-07 16:09:27 INFO: Loading: tokenize\n",
      "2024-04-07 16:09:27 INFO: Done loading processors!\n"
     ]
    }
   ],
   "source": [
    "nlp = stanza.Pipeline(lang='zh', processors='tokenize')"
   ]
  },
  {
   "cell_type": "code",
   "execution_count": 9,
   "metadata": {},
   "outputs": [],
   "source": [
    "# Place-holders\n",
    "token_transform = {}\n",
    "vocab_transform = {}\n",
    "\n",
    "def tokenise_chinese(sent):\n",
    "    return [word.text for sentence in nlp(sent).sentences for word in sentence.words]\n",
    "\n",
    "token_transform[SRC_LANGUAGE] = get_tokenizer('spacy', language='en_core_web_lg')\n",
    "token_transform[TGT_LANGUAGE] = get_tokenizer(tokenise_chinese)"
   ]
  },
  {
   "cell_type": "code",
   "execution_count": 12,
   "metadata": {},
   "outputs": [
    {
     "name": "stderr",
     "output_type": "stream",
     "text": [
      "100%|██████████| 231266/231266 [00:04<00:00, 56006.36it/s]\n",
      "100%|██████████| 231266/231266 [08:48<00:00, 437.82it/s]\n"
     ]
    }
   ],
   "source": [
    "from tqdm import tqdm\n",
    "\n",
    "\n",
    "def yield_tokens(data_iter, language: str):\n",
    "    for data_sample in tqdm(data_iter):\n",
    "        yield token_transform[language](data_sample)\n",
    "\n",
    "\n",
    "for ln in [SRC_LANGUAGE, TGT_LANGUAGE]:\n",
    "    path = f'{DATA_DIR}/iwslt2017-en-zh-train.{ln}'\n",
    "    with open(path, 'r') as f:\n",
    "        # Training data Iterator\n",
    "        train_iter = f.readlines()\n",
    "        # Create torchtext's Vocab object\n",
    "        vocab_transform[ln] = build_vocab_from_iterator(\n",
    "            yield_tokens(train_iter, ln),\n",
    "            min_freq=1,\n",
    "            specials=special_symbols,\n",
    "            special_first=True\n",
    "        )\n",
    "\n",
    "# Set ``UNK_IDX`` as the default index. This index is returned when the token is not found.\n",
    "# If not set, it throws ``RuntimeError`` when the queried token is not found in the Vocabulary.\n",
    "for ln in [SRC_LANGUAGE, TGT_LANGUAGE]:\n",
    "    vocab_transform[ln].set_default_index(UNK_IDX)"
   ]
  },
  {
   "cell_type": "code",
   "execution_count": 13,
   "metadata": {},
   "outputs": [],
   "source": [
    "import torch\n",
    "\n",
    "for ln in [SRC_LANGUAGE, TGT_LANGUAGE]:\n",
    "    torch.save(vocab_transform[ln], f'word-{ln}.vocab')"
   ]
  },
  {
   "cell_type": "markdown",
   "metadata": {},
   "source": [
    "# Testing"
   ]
  },
  {
   "cell_type": "markdown",
   "metadata": {},
   "source": [
    "## Encoding"
   ]
  },
  {
   "cell_type": "code",
   "execution_count": 26,
   "metadata": {},
   "outputs": [],
   "source": [
    "en_vocab = torch.load('./word-en.vocab')"
   ]
  },
  {
   "cell_type": "code",
   "execution_count": 27,
   "metadata": {},
   "outputs": [
    {
     "data": {
      "text/plain": [
       "[13, 111, 8, 112, 8, 294, 6]"
      ]
     },
     "execution_count": 27,
     "metadata": {},
     "output_type": "execute_result"
    }
   ],
   "source": [
    "en_ids = en_vocab(token_transform['en'](\n",
    "    'I want to go to space.'\n",
    "))\n",
    "\n",
    "en_ids"
   ]
  },
  {
   "cell_type": "code",
   "execution_count": 33,
   "metadata": {},
   "outputs": [
    {
     "data": {
      "text/plain": [
       "[7, 45, 80, 806, 6]"
      ]
     },
     "execution_count": 33,
     "metadata": {},
     "output_type": "execute_result"
    }
   ],
   "source": [
    "zh_vocab = torch.load('./word-zh.vocab')\n",
    "\n",
    "zh_ids = zh_vocab(token_transform['zh'](\n",
    "    '我想去欧洲。'\n",
    "))\n",
    "\n",
    "zh_ids"
   ]
  },
  {
   "cell_type": "markdown",
   "metadata": {},
   "source": [
    "## Decoding"
   ]
  },
  {
   "cell_type": "code",
   "execution_count": 34,
   "metadata": {},
   "outputs": [
    {
     "data": {
      "text/plain": [
       "'I want to go to space .'"
      ]
     },
     "execution_count": 34,
     "metadata": {},
     "output_type": "execute_result"
    }
   ],
   "source": [
    "' '.join(en_vocab.lookup_tokens(en_ids))"
   ]
  },
  {
   "cell_type": "code",
   "execution_count": 35,
   "metadata": {},
   "outputs": [
    {
     "data": {
      "text/plain": [
       "'我想去欧洲。'"
      ]
     },
     "execution_count": 35,
     "metadata": {},
     "output_type": "execute_result"
    }
   ],
   "source": [
    "''.join(zh_vocab.lookup_tokens(zh_ids))"
   ]
  }
 ],
 "metadata": {
  "kernelspec": {
   "display_name": ".venv",
   "language": "python",
   "name": "python3"
  },
  "language_info": {
   "codemirror_mode": {
    "name": "ipython",
    "version": 3
   },
   "file_extension": ".py",
   "mimetype": "text/x-python",
   "name": "python",
   "nbconvert_exporter": "python",
   "pygments_lexer": "ipython3",
   "version": "3.11.7"
  }
 },
 "nbformat": 4,
 "nbformat_minor": 2
}
